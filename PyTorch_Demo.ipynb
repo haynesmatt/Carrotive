{
  "nbformat": 4,
  "nbformat_minor": 0,
  "metadata": {
    "colab": {
      "provenance": [],
      "collapsed_sections": [],
      "include_colab_link": true
    },
    "kernelspec": {
      "name": "python3",
      "display_name": "Python 3"
    },
    "language_info": {
      "name": "python"
    },
    "widgets": {
      "application/vnd.jupyter.widget-state+json": {
        "f3b400ea89d9463f8bd279ba79e90aa7": {
          "model_module": "@jupyter-widgets/controls",
          "model_name": "HBoxModel",
          "model_module_version": "1.5.0",
          "state": {
            "_dom_classes": [],
            "_model_module": "@jupyter-widgets/controls",
            "_model_module_version": "1.5.0",
            "_model_name": "HBoxModel",
            "_view_count": null,
            "_view_module": "@jupyter-widgets/controls",
            "_view_module_version": "1.5.0",
            "_view_name": "HBoxView",
            "box_style": "",
            "children": [
              "IPY_MODEL_5256a79c8d004317a537685fd0b944b8",
              "IPY_MODEL_454a8af602c74a0881bbc824ee97d0bf",
              "IPY_MODEL_64e97db97fa346c6870af41192aa38b3"
            ],
            "layout": "IPY_MODEL_79988de50d7b4fe8a1f413114c410db0"
          }
        },
        "5256a79c8d004317a537685fd0b944b8": {
          "model_module": "@jupyter-widgets/controls",
          "model_name": "HTMLModel",
          "model_module_version": "1.5.0",
          "state": {
            "_dom_classes": [],
            "_model_module": "@jupyter-widgets/controls",
            "_model_module_version": "1.5.0",
            "_model_name": "HTMLModel",
            "_view_count": null,
            "_view_module": "@jupyter-widgets/controls",
            "_view_module_version": "1.5.0",
            "_view_name": "HTMLView",
            "description": "",
            "description_tooltip": null,
            "layout": "IPY_MODEL_19818098ac75462590c59107f8800b80",
            "placeholder": "​",
            "style": "IPY_MODEL_256141b4a74a458facbc325cdec539f6",
            "value": "100%"
          }
        },
        "454a8af602c74a0881bbc824ee97d0bf": {
          "model_module": "@jupyter-widgets/controls",
          "model_name": "FloatProgressModel",
          "model_module_version": "1.5.0",
          "state": {
            "_dom_classes": [],
            "_model_module": "@jupyter-widgets/controls",
            "_model_module_version": "1.5.0",
            "_model_name": "FloatProgressModel",
            "_view_count": null,
            "_view_module": "@jupyter-widgets/controls",
            "_view_module_version": "1.5.0",
            "_view_name": "ProgressView",
            "bar_style": "success",
            "description": "",
            "description_tooltip": null,
            "layout": "IPY_MODEL_0450bf2e0b794c2da0e3b830d7483b02",
            "max": 26421880,
            "min": 0,
            "orientation": "horizontal",
            "style": "IPY_MODEL_bc089cfddc8e4222b9b6c34456dddd4c",
            "value": 26421880
          }
        },
        "64e97db97fa346c6870af41192aa38b3": {
          "model_module": "@jupyter-widgets/controls",
          "model_name": "HTMLModel",
          "model_module_version": "1.5.0",
          "state": {
            "_dom_classes": [],
            "_model_module": "@jupyter-widgets/controls",
            "_model_module_version": "1.5.0",
            "_model_name": "HTMLModel",
            "_view_count": null,
            "_view_module": "@jupyter-widgets/controls",
            "_view_module_version": "1.5.0",
            "_view_name": "HTMLView",
            "description": "",
            "description_tooltip": null,
            "layout": "IPY_MODEL_bbff2e73092541f4b0bfa82dcb8f10c0",
            "placeholder": "​",
            "style": "IPY_MODEL_30a5935595084bf6af5aa79a551ca971",
            "value": " 26421880/26421880 [00:01&lt;00:00, 24863580.35it/s]"
          }
        },
        "79988de50d7b4fe8a1f413114c410db0": {
          "model_module": "@jupyter-widgets/base",
          "model_name": "LayoutModel",
          "model_module_version": "1.2.0",
          "state": {
            "_model_module": "@jupyter-widgets/base",
            "_model_module_version": "1.2.0",
            "_model_name": "LayoutModel",
            "_view_count": null,
            "_view_module": "@jupyter-widgets/base",
            "_view_module_version": "1.2.0",
            "_view_name": "LayoutView",
            "align_content": null,
            "align_items": null,
            "align_self": null,
            "border": null,
            "bottom": null,
            "display": null,
            "flex": null,
            "flex_flow": null,
            "grid_area": null,
            "grid_auto_columns": null,
            "grid_auto_flow": null,
            "grid_auto_rows": null,
            "grid_column": null,
            "grid_gap": null,
            "grid_row": null,
            "grid_template_areas": null,
            "grid_template_columns": null,
            "grid_template_rows": null,
            "height": null,
            "justify_content": null,
            "justify_items": null,
            "left": null,
            "margin": null,
            "max_height": null,
            "max_width": null,
            "min_height": null,
            "min_width": null,
            "object_fit": null,
            "object_position": null,
            "order": null,
            "overflow": null,
            "overflow_x": null,
            "overflow_y": null,
            "padding": null,
            "right": null,
            "top": null,
            "visibility": null,
            "width": null
          }
        },
        "19818098ac75462590c59107f8800b80": {
          "model_module": "@jupyter-widgets/base",
          "model_name": "LayoutModel",
          "model_module_version": "1.2.0",
          "state": {
            "_model_module": "@jupyter-widgets/base",
            "_model_module_version": "1.2.0",
            "_model_name": "LayoutModel",
            "_view_count": null,
            "_view_module": "@jupyter-widgets/base",
            "_view_module_version": "1.2.0",
            "_view_name": "LayoutView",
            "align_content": null,
            "align_items": null,
            "align_self": null,
            "border": null,
            "bottom": null,
            "display": null,
            "flex": null,
            "flex_flow": null,
            "grid_area": null,
            "grid_auto_columns": null,
            "grid_auto_flow": null,
            "grid_auto_rows": null,
            "grid_column": null,
            "grid_gap": null,
            "grid_row": null,
            "grid_template_areas": null,
            "grid_template_columns": null,
            "grid_template_rows": null,
            "height": null,
            "justify_content": null,
            "justify_items": null,
            "left": null,
            "margin": null,
            "max_height": null,
            "max_width": null,
            "min_height": null,
            "min_width": null,
            "object_fit": null,
            "object_position": null,
            "order": null,
            "overflow": null,
            "overflow_x": null,
            "overflow_y": null,
            "padding": null,
            "right": null,
            "top": null,
            "visibility": null,
            "width": null
          }
        },
        "256141b4a74a458facbc325cdec539f6": {
          "model_module": "@jupyter-widgets/controls",
          "model_name": "DescriptionStyleModel",
          "model_module_version": "1.5.0",
          "state": {
            "_model_module": "@jupyter-widgets/controls",
            "_model_module_version": "1.5.0",
            "_model_name": "DescriptionStyleModel",
            "_view_count": null,
            "_view_module": "@jupyter-widgets/base",
            "_view_module_version": "1.2.0",
            "_view_name": "StyleView",
            "description_width": ""
          }
        },
        "0450bf2e0b794c2da0e3b830d7483b02": {
          "model_module": "@jupyter-widgets/base",
          "model_name": "LayoutModel",
          "model_module_version": "1.2.0",
          "state": {
            "_model_module": "@jupyter-widgets/base",
            "_model_module_version": "1.2.0",
            "_model_name": "LayoutModel",
            "_view_count": null,
            "_view_module": "@jupyter-widgets/base",
            "_view_module_version": "1.2.0",
            "_view_name": "LayoutView",
            "align_content": null,
            "align_items": null,
            "align_self": null,
            "border": null,
            "bottom": null,
            "display": null,
            "flex": null,
            "flex_flow": null,
            "grid_area": null,
            "grid_auto_columns": null,
            "grid_auto_flow": null,
            "grid_auto_rows": null,
            "grid_column": null,
            "grid_gap": null,
            "grid_row": null,
            "grid_template_areas": null,
            "grid_template_columns": null,
            "grid_template_rows": null,
            "height": null,
            "justify_content": null,
            "justify_items": null,
            "left": null,
            "margin": null,
            "max_height": null,
            "max_width": null,
            "min_height": null,
            "min_width": null,
            "object_fit": null,
            "object_position": null,
            "order": null,
            "overflow": null,
            "overflow_x": null,
            "overflow_y": null,
            "padding": null,
            "right": null,
            "top": null,
            "visibility": null,
            "width": null
          }
        },
        "bc089cfddc8e4222b9b6c34456dddd4c": {
          "model_module": "@jupyter-widgets/controls",
          "model_name": "ProgressStyleModel",
          "model_module_version": "1.5.0",
          "state": {
            "_model_module": "@jupyter-widgets/controls",
            "_model_module_version": "1.5.0",
            "_model_name": "ProgressStyleModel",
            "_view_count": null,
            "_view_module": "@jupyter-widgets/base",
            "_view_module_version": "1.2.0",
            "_view_name": "StyleView",
            "bar_color": null,
            "description_width": ""
          }
        },
        "bbff2e73092541f4b0bfa82dcb8f10c0": {
          "model_module": "@jupyter-widgets/base",
          "model_name": "LayoutModel",
          "model_module_version": "1.2.0",
          "state": {
            "_model_module": "@jupyter-widgets/base",
            "_model_module_version": "1.2.0",
            "_model_name": "LayoutModel",
            "_view_count": null,
            "_view_module": "@jupyter-widgets/base",
            "_view_module_version": "1.2.0",
            "_view_name": "LayoutView",
            "align_content": null,
            "align_items": null,
            "align_self": null,
            "border": null,
            "bottom": null,
            "display": null,
            "flex": null,
            "flex_flow": null,
            "grid_area": null,
            "grid_auto_columns": null,
            "grid_auto_flow": null,
            "grid_auto_rows": null,
            "grid_column": null,
            "grid_gap": null,
            "grid_row": null,
            "grid_template_areas": null,
            "grid_template_columns": null,
            "grid_template_rows": null,
            "height": null,
            "justify_content": null,
            "justify_items": null,
            "left": null,
            "margin": null,
            "max_height": null,
            "max_width": null,
            "min_height": null,
            "min_width": null,
            "object_fit": null,
            "object_position": null,
            "order": null,
            "overflow": null,
            "overflow_x": null,
            "overflow_y": null,
            "padding": null,
            "right": null,
            "top": null,
            "visibility": null,
            "width": null
          }
        },
        "30a5935595084bf6af5aa79a551ca971": {
          "model_module": "@jupyter-widgets/controls",
          "model_name": "DescriptionStyleModel",
          "model_module_version": "1.5.0",
          "state": {
            "_model_module": "@jupyter-widgets/controls",
            "_model_module_version": "1.5.0",
            "_model_name": "DescriptionStyleModel",
            "_view_count": null,
            "_view_module": "@jupyter-widgets/base",
            "_view_module_version": "1.2.0",
            "_view_name": "StyleView",
            "description_width": ""
          }
        },
        "d80491ae6e564e29843be4cd51176e94": {
          "model_module": "@jupyter-widgets/controls",
          "model_name": "HBoxModel",
          "model_module_version": "1.5.0",
          "state": {
            "_dom_classes": [],
            "_model_module": "@jupyter-widgets/controls",
            "_model_module_version": "1.5.0",
            "_model_name": "HBoxModel",
            "_view_count": null,
            "_view_module": "@jupyter-widgets/controls",
            "_view_module_version": "1.5.0",
            "_view_name": "HBoxView",
            "box_style": "",
            "children": [
              "IPY_MODEL_8d2a747b6d3645cd9e7d4d305cf1cdef",
              "IPY_MODEL_d3215bb45b864e28a088145c9effea9b",
              "IPY_MODEL_59e65f877abc4ca5b5928848b434b218"
            ],
            "layout": "IPY_MODEL_cdfb1b35bbdf4ed8be8f460052c6b480"
          }
        },
        "8d2a747b6d3645cd9e7d4d305cf1cdef": {
          "model_module": "@jupyter-widgets/controls",
          "model_name": "HTMLModel",
          "model_module_version": "1.5.0",
          "state": {
            "_dom_classes": [],
            "_model_module": "@jupyter-widgets/controls",
            "_model_module_version": "1.5.0",
            "_model_name": "HTMLModel",
            "_view_count": null,
            "_view_module": "@jupyter-widgets/controls",
            "_view_module_version": "1.5.0",
            "_view_name": "HTMLView",
            "description": "",
            "description_tooltip": null,
            "layout": "IPY_MODEL_f60e106223dd458584f0307594d77628",
            "placeholder": "​",
            "style": "IPY_MODEL_4d35eed81f284be6a75878f5f1f8a274",
            "value": "100%"
          }
        },
        "d3215bb45b864e28a088145c9effea9b": {
          "model_module": "@jupyter-widgets/controls",
          "model_name": "FloatProgressModel",
          "model_module_version": "1.5.0",
          "state": {
            "_dom_classes": [],
            "_model_module": "@jupyter-widgets/controls",
            "_model_module_version": "1.5.0",
            "_model_name": "FloatProgressModel",
            "_view_count": null,
            "_view_module": "@jupyter-widgets/controls",
            "_view_module_version": "1.5.0",
            "_view_name": "ProgressView",
            "bar_style": "success",
            "description": "",
            "description_tooltip": null,
            "layout": "IPY_MODEL_58dd7efe1dbc4b5e89b7285365e999cd",
            "max": 29515,
            "min": 0,
            "orientation": "horizontal",
            "style": "IPY_MODEL_c36d0c06eec745d5b80b0641263ebcb9",
            "value": 29515
          }
        },
        "59e65f877abc4ca5b5928848b434b218": {
          "model_module": "@jupyter-widgets/controls",
          "model_name": "HTMLModel",
          "model_module_version": "1.5.0",
          "state": {
            "_dom_classes": [],
            "_model_module": "@jupyter-widgets/controls",
            "_model_module_version": "1.5.0",
            "_model_name": "HTMLModel",
            "_view_count": null,
            "_view_module": "@jupyter-widgets/controls",
            "_view_module_version": "1.5.0",
            "_view_name": "HTMLView",
            "description": "",
            "description_tooltip": null,
            "layout": "IPY_MODEL_df3fb4e71ab145b0a0047173341d4f4b",
            "placeholder": "​",
            "style": "IPY_MODEL_7a6f912136b4402fa8e8c901f027e893",
            "value": " 29515/29515 [00:00&lt;00:00, 274896.93it/s]"
          }
        },
        "cdfb1b35bbdf4ed8be8f460052c6b480": {
          "model_module": "@jupyter-widgets/base",
          "model_name": "LayoutModel",
          "model_module_version": "1.2.0",
          "state": {
            "_model_module": "@jupyter-widgets/base",
            "_model_module_version": "1.2.0",
            "_model_name": "LayoutModel",
            "_view_count": null,
            "_view_module": "@jupyter-widgets/base",
            "_view_module_version": "1.2.0",
            "_view_name": "LayoutView",
            "align_content": null,
            "align_items": null,
            "align_self": null,
            "border": null,
            "bottom": null,
            "display": null,
            "flex": null,
            "flex_flow": null,
            "grid_area": null,
            "grid_auto_columns": null,
            "grid_auto_flow": null,
            "grid_auto_rows": null,
            "grid_column": null,
            "grid_gap": null,
            "grid_row": null,
            "grid_template_areas": null,
            "grid_template_columns": null,
            "grid_template_rows": null,
            "height": null,
            "justify_content": null,
            "justify_items": null,
            "left": null,
            "margin": null,
            "max_height": null,
            "max_width": null,
            "min_height": null,
            "min_width": null,
            "object_fit": null,
            "object_position": null,
            "order": null,
            "overflow": null,
            "overflow_x": null,
            "overflow_y": null,
            "padding": null,
            "right": null,
            "top": null,
            "visibility": null,
            "width": null
          }
        },
        "f60e106223dd458584f0307594d77628": {
          "model_module": "@jupyter-widgets/base",
          "model_name": "LayoutModel",
          "model_module_version": "1.2.0",
          "state": {
            "_model_module": "@jupyter-widgets/base",
            "_model_module_version": "1.2.0",
            "_model_name": "LayoutModel",
            "_view_count": null,
            "_view_module": "@jupyter-widgets/base",
            "_view_module_version": "1.2.0",
            "_view_name": "LayoutView",
            "align_content": null,
            "align_items": null,
            "align_self": null,
            "border": null,
            "bottom": null,
            "display": null,
            "flex": null,
            "flex_flow": null,
            "grid_area": null,
            "grid_auto_columns": null,
            "grid_auto_flow": null,
            "grid_auto_rows": null,
            "grid_column": null,
            "grid_gap": null,
            "grid_row": null,
            "grid_template_areas": null,
            "grid_template_columns": null,
            "grid_template_rows": null,
            "height": null,
            "justify_content": null,
            "justify_items": null,
            "left": null,
            "margin": null,
            "max_height": null,
            "max_width": null,
            "min_height": null,
            "min_width": null,
            "object_fit": null,
            "object_position": null,
            "order": null,
            "overflow": null,
            "overflow_x": null,
            "overflow_y": null,
            "padding": null,
            "right": null,
            "top": null,
            "visibility": null,
            "width": null
          }
        },
        "4d35eed81f284be6a75878f5f1f8a274": {
          "model_module": "@jupyter-widgets/controls",
          "model_name": "DescriptionStyleModel",
          "model_module_version": "1.5.0",
          "state": {
            "_model_module": "@jupyter-widgets/controls",
            "_model_module_version": "1.5.0",
            "_model_name": "DescriptionStyleModel",
            "_view_count": null,
            "_view_module": "@jupyter-widgets/base",
            "_view_module_version": "1.2.0",
            "_view_name": "StyleView",
            "description_width": ""
          }
        },
        "58dd7efe1dbc4b5e89b7285365e999cd": {
          "model_module": "@jupyter-widgets/base",
          "model_name": "LayoutModel",
          "model_module_version": "1.2.0",
          "state": {
            "_model_module": "@jupyter-widgets/base",
            "_model_module_version": "1.2.0",
            "_model_name": "LayoutModel",
            "_view_count": null,
            "_view_module": "@jupyter-widgets/base",
            "_view_module_version": "1.2.0",
            "_view_name": "LayoutView",
            "align_content": null,
            "align_items": null,
            "align_self": null,
            "border": null,
            "bottom": null,
            "display": null,
            "flex": null,
            "flex_flow": null,
            "grid_area": null,
            "grid_auto_columns": null,
            "grid_auto_flow": null,
            "grid_auto_rows": null,
            "grid_column": null,
            "grid_gap": null,
            "grid_row": null,
            "grid_template_areas": null,
            "grid_template_columns": null,
            "grid_template_rows": null,
            "height": null,
            "justify_content": null,
            "justify_items": null,
            "left": null,
            "margin": null,
            "max_height": null,
            "max_width": null,
            "min_height": null,
            "min_width": null,
            "object_fit": null,
            "object_position": null,
            "order": null,
            "overflow": null,
            "overflow_x": null,
            "overflow_y": null,
            "padding": null,
            "right": null,
            "top": null,
            "visibility": null,
            "width": null
          }
        },
        "c36d0c06eec745d5b80b0641263ebcb9": {
          "model_module": "@jupyter-widgets/controls",
          "model_name": "ProgressStyleModel",
          "model_module_version": "1.5.0",
          "state": {
            "_model_module": "@jupyter-widgets/controls",
            "_model_module_version": "1.5.0",
            "_model_name": "ProgressStyleModel",
            "_view_count": null,
            "_view_module": "@jupyter-widgets/base",
            "_view_module_version": "1.2.0",
            "_view_name": "StyleView",
            "bar_color": null,
            "description_width": ""
          }
        },
        "df3fb4e71ab145b0a0047173341d4f4b": {
          "model_module": "@jupyter-widgets/base",
          "model_name": "LayoutModel",
          "model_module_version": "1.2.0",
          "state": {
            "_model_module": "@jupyter-widgets/base",
            "_model_module_version": "1.2.0",
            "_model_name": "LayoutModel",
            "_view_count": null,
            "_view_module": "@jupyter-widgets/base",
            "_view_module_version": "1.2.0",
            "_view_name": "LayoutView",
            "align_content": null,
            "align_items": null,
            "align_self": null,
            "border": null,
            "bottom": null,
            "display": null,
            "flex": null,
            "flex_flow": null,
            "grid_area": null,
            "grid_auto_columns": null,
            "grid_auto_flow": null,
            "grid_auto_rows": null,
            "grid_column": null,
            "grid_gap": null,
            "grid_row": null,
            "grid_template_areas": null,
            "grid_template_columns": null,
            "grid_template_rows": null,
            "height": null,
            "justify_content": null,
            "justify_items": null,
            "left": null,
            "margin": null,
            "max_height": null,
            "max_width": null,
            "min_height": null,
            "min_width": null,
            "object_fit": null,
            "object_position": null,
            "order": null,
            "overflow": null,
            "overflow_x": null,
            "overflow_y": null,
            "padding": null,
            "right": null,
            "top": null,
            "visibility": null,
            "width": null
          }
        },
        "7a6f912136b4402fa8e8c901f027e893": {
          "model_module": "@jupyter-widgets/controls",
          "model_name": "DescriptionStyleModel",
          "model_module_version": "1.5.0",
          "state": {
            "_model_module": "@jupyter-widgets/controls",
            "_model_module_version": "1.5.0",
            "_model_name": "DescriptionStyleModel",
            "_view_count": null,
            "_view_module": "@jupyter-widgets/base",
            "_view_module_version": "1.2.0",
            "_view_name": "StyleView",
            "description_width": ""
          }
        },
        "354d7fd5f91c4fac88fefd984d8c4664": {
          "model_module": "@jupyter-widgets/controls",
          "model_name": "HBoxModel",
          "model_module_version": "1.5.0",
          "state": {
            "_dom_classes": [],
            "_model_module": "@jupyter-widgets/controls",
            "_model_module_version": "1.5.0",
            "_model_name": "HBoxModel",
            "_view_count": null,
            "_view_module": "@jupyter-widgets/controls",
            "_view_module_version": "1.5.0",
            "_view_name": "HBoxView",
            "box_style": "",
            "children": [
              "IPY_MODEL_819b9da445af40c88c30e358026fd64d",
              "IPY_MODEL_8987939468184bbcb9805ce5254a342a",
              "IPY_MODEL_3c6ce097e52e4f6498655db9c5c37f8c"
            ],
            "layout": "IPY_MODEL_498d7035bf12421caeece36f7a43e121"
          }
        },
        "819b9da445af40c88c30e358026fd64d": {
          "model_module": "@jupyter-widgets/controls",
          "model_name": "HTMLModel",
          "model_module_version": "1.5.0",
          "state": {
            "_dom_classes": [],
            "_model_module": "@jupyter-widgets/controls",
            "_model_module_version": "1.5.0",
            "_model_name": "HTMLModel",
            "_view_count": null,
            "_view_module": "@jupyter-widgets/controls",
            "_view_module_version": "1.5.0",
            "_view_name": "HTMLView",
            "description": "",
            "description_tooltip": null,
            "layout": "IPY_MODEL_6fee38f7dfeb43329bc7208badc0b374",
            "placeholder": "​",
            "style": "IPY_MODEL_de565c72ab374df2a5f60bc7c35f9d7d",
            "value": "100%"
          }
        },
        "8987939468184bbcb9805ce5254a342a": {
          "model_module": "@jupyter-widgets/controls",
          "model_name": "FloatProgressModel",
          "model_module_version": "1.5.0",
          "state": {
            "_dom_classes": [],
            "_model_module": "@jupyter-widgets/controls",
            "_model_module_version": "1.5.0",
            "_model_name": "FloatProgressModel",
            "_view_count": null,
            "_view_module": "@jupyter-widgets/controls",
            "_view_module_version": "1.5.0",
            "_view_name": "ProgressView",
            "bar_style": "success",
            "description": "",
            "description_tooltip": null,
            "layout": "IPY_MODEL_06f793462d2e4405985bd0c3cae4d360",
            "max": 4422102,
            "min": 0,
            "orientation": "horizontal",
            "style": "IPY_MODEL_9e4d3b68989b4a42843dffbd00c02d22",
            "value": 4422102
          }
        },
        "3c6ce097e52e4f6498655db9c5c37f8c": {
          "model_module": "@jupyter-widgets/controls",
          "model_name": "HTMLModel",
          "model_module_version": "1.5.0",
          "state": {
            "_dom_classes": [],
            "_model_module": "@jupyter-widgets/controls",
            "_model_module_version": "1.5.0",
            "_model_name": "HTMLModel",
            "_view_count": null,
            "_view_module": "@jupyter-widgets/controls",
            "_view_module_version": "1.5.0",
            "_view_name": "HTMLView",
            "description": "",
            "description_tooltip": null,
            "layout": "IPY_MODEL_8b229d1f087d4bd3b95a4af3b1c924b0",
            "placeholder": "​",
            "style": "IPY_MODEL_ad3b8e773c98400296eefef28443fc2b",
            "value": " 4422102/4422102 [00:00&lt;00:00, 8585389.13it/s]"
          }
        },
        "498d7035bf12421caeece36f7a43e121": {
          "model_module": "@jupyter-widgets/base",
          "model_name": "LayoutModel",
          "model_module_version": "1.2.0",
          "state": {
            "_model_module": "@jupyter-widgets/base",
            "_model_module_version": "1.2.0",
            "_model_name": "LayoutModel",
            "_view_count": null,
            "_view_module": "@jupyter-widgets/base",
            "_view_module_version": "1.2.0",
            "_view_name": "LayoutView",
            "align_content": null,
            "align_items": null,
            "align_self": null,
            "border": null,
            "bottom": null,
            "display": null,
            "flex": null,
            "flex_flow": null,
            "grid_area": null,
            "grid_auto_columns": null,
            "grid_auto_flow": null,
            "grid_auto_rows": null,
            "grid_column": null,
            "grid_gap": null,
            "grid_row": null,
            "grid_template_areas": null,
            "grid_template_columns": null,
            "grid_template_rows": null,
            "height": null,
            "justify_content": null,
            "justify_items": null,
            "left": null,
            "margin": null,
            "max_height": null,
            "max_width": null,
            "min_height": null,
            "min_width": null,
            "object_fit": null,
            "object_position": null,
            "order": null,
            "overflow": null,
            "overflow_x": null,
            "overflow_y": null,
            "padding": null,
            "right": null,
            "top": null,
            "visibility": null,
            "width": null
          }
        },
        "6fee38f7dfeb43329bc7208badc0b374": {
          "model_module": "@jupyter-widgets/base",
          "model_name": "LayoutModel",
          "model_module_version": "1.2.0",
          "state": {
            "_model_module": "@jupyter-widgets/base",
            "_model_module_version": "1.2.0",
            "_model_name": "LayoutModel",
            "_view_count": null,
            "_view_module": "@jupyter-widgets/base",
            "_view_module_version": "1.2.0",
            "_view_name": "LayoutView",
            "align_content": null,
            "align_items": null,
            "align_self": null,
            "border": null,
            "bottom": null,
            "display": null,
            "flex": null,
            "flex_flow": null,
            "grid_area": null,
            "grid_auto_columns": null,
            "grid_auto_flow": null,
            "grid_auto_rows": null,
            "grid_column": null,
            "grid_gap": null,
            "grid_row": null,
            "grid_template_areas": null,
            "grid_template_columns": null,
            "grid_template_rows": null,
            "height": null,
            "justify_content": null,
            "justify_items": null,
            "left": null,
            "margin": null,
            "max_height": null,
            "max_width": null,
            "min_height": null,
            "min_width": null,
            "object_fit": null,
            "object_position": null,
            "order": null,
            "overflow": null,
            "overflow_x": null,
            "overflow_y": null,
            "padding": null,
            "right": null,
            "top": null,
            "visibility": null,
            "width": null
          }
        },
        "de565c72ab374df2a5f60bc7c35f9d7d": {
          "model_module": "@jupyter-widgets/controls",
          "model_name": "DescriptionStyleModel",
          "model_module_version": "1.5.0",
          "state": {
            "_model_module": "@jupyter-widgets/controls",
            "_model_module_version": "1.5.0",
            "_model_name": "DescriptionStyleModel",
            "_view_count": null,
            "_view_module": "@jupyter-widgets/base",
            "_view_module_version": "1.2.0",
            "_view_name": "StyleView",
            "description_width": ""
          }
        },
        "06f793462d2e4405985bd0c3cae4d360": {
          "model_module": "@jupyter-widgets/base",
          "model_name": "LayoutModel",
          "model_module_version": "1.2.0",
          "state": {
            "_model_module": "@jupyter-widgets/base",
            "_model_module_version": "1.2.0",
            "_model_name": "LayoutModel",
            "_view_count": null,
            "_view_module": "@jupyter-widgets/base",
            "_view_module_version": "1.2.0",
            "_view_name": "LayoutView",
            "align_content": null,
            "align_items": null,
            "align_self": null,
            "border": null,
            "bottom": null,
            "display": null,
            "flex": null,
            "flex_flow": null,
            "grid_area": null,
            "grid_auto_columns": null,
            "grid_auto_flow": null,
            "grid_auto_rows": null,
            "grid_column": null,
            "grid_gap": null,
            "grid_row": null,
            "grid_template_areas": null,
            "grid_template_columns": null,
            "grid_template_rows": null,
            "height": null,
            "justify_content": null,
            "justify_items": null,
            "left": null,
            "margin": null,
            "max_height": null,
            "max_width": null,
            "min_height": null,
            "min_width": null,
            "object_fit": null,
            "object_position": null,
            "order": null,
            "overflow": null,
            "overflow_x": null,
            "overflow_y": null,
            "padding": null,
            "right": null,
            "top": null,
            "visibility": null,
            "width": null
          }
        },
        "9e4d3b68989b4a42843dffbd00c02d22": {
          "model_module": "@jupyter-widgets/controls",
          "model_name": "ProgressStyleModel",
          "model_module_version": "1.5.0",
          "state": {
            "_model_module": "@jupyter-widgets/controls",
            "_model_module_version": "1.5.0",
            "_model_name": "ProgressStyleModel",
            "_view_count": null,
            "_view_module": "@jupyter-widgets/base",
            "_view_module_version": "1.2.0",
            "_view_name": "StyleView",
            "bar_color": null,
            "description_width": ""
          }
        },
        "8b229d1f087d4bd3b95a4af3b1c924b0": {
          "model_module": "@jupyter-widgets/base",
          "model_name": "LayoutModel",
          "model_module_version": "1.2.0",
          "state": {
            "_model_module": "@jupyter-widgets/base",
            "_model_module_version": "1.2.0",
            "_model_name": "LayoutModel",
            "_view_count": null,
            "_view_module": "@jupyter-widgets/base",
            "_view_module_version": "1.2.0",
            "_view_name": "LayoutView",
            "align_content": null,
            "align_items": null,
            "align_self": null,
            "border": null,
            "bottom": null,
            "display": null,
            "flex": null,
            "flex_flow": null,
            "grid_area": null,
            "grid_auto_columns": null,
            "grid_auto_flow": null,
            "grid_auto_rows": null,
            "grid_column": null,
            "grid_gap": null,
            "grid_row": null,
            "grid_template_areas": null,
            "grid_template_columns": null,
            "grid_template_rows": null,
            "height": null,
            "justify_content": null,
            "justify_items": null,
            "left": null,
            "margin": null,
            "max_height": null,
            "max_width": null,
            "min_height": null,
            "min_width": null,
            "object_fit": null,
            "object_position": null,
            "order": null,
            "overflow": null,
            "overflow_x": null,
            "overflow_y": null,
            "padding": null,
            "right": null,
            "top": null,
            "visibility": null,
            "width": null
          }
        },
        "ad3b8e773c98400296eefef28443fc2b": {
          "model_module": "@jupyter-widgets/controls",
          "model_name": "DescriptionStyleModel",
          "model_module_version": "1.5.0",
          "state": {
            "_model_module": "@jupyter-widgets/controls",
            "_model_module_version": "1.5.0",
            "_model_name": "DescriptionStyleModel",
            "_view_count": null,
            "_view_module": "@jupyter-widgets/base",
            "_view_module_version": "1.2.0",
            "_view_name": "StyleView",
            "description_width": ""
          }
        },
        "2970acddb7824e49b99ecdcf4e97187b": {
          "model_module": "@jupyter-widgets/controls",
          "model_name": "HBoxModel",
          "model_module_version": "1.5.0",
          "state": {
            "_dom_classes": [],
            "_model_module": "@jupyter-widgets/controls",
            "_model_module_version": "1.5.0",
            "_model_name": "HBoxModel",
            "_view_count": null,
            "_view_module": "@jupyter-widgets/controls",
            "_view_module_version": "1.5.0",
            "_view_name": "HBoxView",
            "box_style": "",
            "children": [
              "IPY_MODEL_b7c9b55d664c4186b7abe1acbd62d2ec",
              "IPY_MODEL_80f7a9dd19374fc4906face16c7d9fff",
              "IPY_MODEL_7bcef9d72db6421b8000fc12b1dd86f8"
            ],
            "layout": "IPY_MODEL_b66dad04d7e44ae390cfdbb14d9b565c"
          }
        },
        "b7c9b55d664c4186b7abe1acbd62d2ec": {
          "model_module": "@jupyter-widgets/controls",
          "model_name": "HTMLModel",
          "model_module_version": "1.5.0",
          "state": {
            "_dom_classes": [],
            "_model_module": "@jupyter-widgets/controls",
            "_model_module_version": "1.5.0",
            "_model_name": "HTMLModel",
            "_view_count": null,
            "_view_module": "@jupyter-widgets/controls",
            "_view_module_version": "1.5.0",
            "_view_name": "HTMLView",
            "description": "",
            "description_tooltip": null,
            "layout": "IPY_MODEL_289ac610368b4c8fb7b05355406f7bea",
            "placeholder": "​",
            "style": "IPY_MODEL_30ec5afc4f2c4e77aa293d7d4ed88adb",
            "value": "100%"
          }
        },
        "80f7a9dd19374fc4906face16c7d9fff": {
          "model_module": "@jupyter-widgets/controls",
          "model_name": "FloatProgressModel",
          "model_module_version": "1.5.0",
          "state": {
            "_dom_classes": [],
            "_model_module": "@jupyter-widgets/controls",
            "_model_module_version": "1.5.0",
            "_model_name": "FloatProgressModel",
            "_view_count": null,
            "_view_module": "@jupyter-widgets/controls",
            "_view_module_version": "1.5.0",
            "_view_name": "ProgressView",
            "bar_style": "success",
            "description": "",
            "description_tooltip": null,
            "layout": "IPY_MODEL_8e7ecb7d13b54190ba0794fcaf22e146",
            "max": 5148,
            "min": 0,
            "orientation": "horizontal",
            "style": "IPY_MODEL_36fdca4e10d5497daf03e72c71e3f168",
            "value": 5148
          }
        },
        "7bcef9d72db6421b8000fc12b1dd86f8": {
          "model_module": "@jupyter-widgets/controls",
          "model_name": "HTMLModel",
          "model_module_version": "1.5.0",
          "state": {
            "_dom_classes": [],
            "_model_module": "@jupyter-widgets/controls",
            "_model_module_version": "1.5.0",
            "_model_name": "HTMLModel",
            "_view_count": null,
            "_view_module": "@jupyter-widgets/controls",
            "_view_module_version": "1.5.0",
            "_view_name": "HTMLView",
            "description": "",
            "description_tooltip": null,
            "layout": "IPY_MODEL_6bd92a4b2a2e4d3ea7012046453f383d",
            "placeholder": "​",
            "style": "IPY_MODEL_928c73f01e754c91905616fcfcba3d7e",
            "value": " 5148/5148 [00:00&lt;00:00, 86528.32it/s]"
          }
        },
        "b66dad04d7e44ae390cfdbb14d9b565c": {
          "model_module": "@jupyter-widgets/base",
          "model_name": "LayoutModel",
          "model_module_version": "1.2.0",
          "state": {
            "_model_module": "@jupyter-widgets/base",
            "_model_module_version": "1.2.0",
            "_model_name": "LayoutModel",
            "_view_count": null,
            "_view_module": "@jupyter-widgets/base",
            "_view_module_version": "1.2.0",
            "_view_name": "LayoutView",
            "align_content": null,
            "align_items": null,
            "align_self": null,
            "border": null,
            "bottom": null,
            "display": null,
            "flex": null,
            "flex_flow": null,
            "grid_area": null,
            "grid_auto_columns": null,
            "grid_auto_flow": null,
            "grid_auto_rows": null,
            "grid_column": null,
            "grid_gap": null,
            "grid_row": null,
            "grid_template_areas": null,
            "grid_template_columns": null,
            "grid_template_rows": null,
            "height": null,
            "justify_content": null,
            "justify_items": null,
            "left": null,
            "margin": null,
            "max_height": null,
            "max_width": null,
            "min_height": null,
            "min_width": null,
            "object_fit": null,
            "object_position": null,
            "order": null,
            "overflow": null,
            "overflow_x": null,
            "overflow_y": null,
            "padding": null,
            "right": null,
            "top": null,
            "visibility": null,
            "width": null
          }
        },
        "289ac610368b4c8fb7b05355406f7bea": {
          "model_module": "@jupyter-widgets/base",
          "model_name": "LayoutModel",
          "model_module_version": "1.2.0",
          "state": {
            "_model_module": "@jupyter-widgets/base",
            "_model_module_version": "1.2.0",
            "_model_name": "LayoutModel",
            "_view_count": null,
            "_view_module": "@jupyter-widgets/base",
            "_view_module_version": "1.2.0",
            "_view_name": "LayoutView",
            "align_content": null,
            "align_items": null,
            "align_self": null,
            "border": null,
            "bottom": null,
            "display": null,
            "flex": null,
            "flex_flow": null,
            "grid_area": null,
            "grid_auto_columns": null,
            "grid_auto_flow": null,
            "grid_auto_rows": null,
            "grid_column": null,
            "grid_gap": null,
            "grid_row": null,
            "grid_template_areas": null,
            "grid_template_columns": null,
            "grid_template_rows": null,
            "height": null,
            "justify_content": null,
            "justify_items": null,
            "left": null,
            "margin": null,
            "max_height": null,
            "max_width": null,
            "min_height": null,
            "min_width": null,
            "object_fit": null,
            "object_position": null,
            "order": null,
            "overflow": null,
            "overflow_x": null,
            "overflow_y": null,
            "padding": null,
            "right": null,
            "top": null,
            "visibility": null,
            "width": null
          }
        },
        "30ec5afc4f2c4e77aa293d7d4ed88adb": {
          "model_module": "@jupyter-widgets/controls",
          "model_name": "DescriptionStyleModel",
          "model_module_version": "1.5.0",
          "state": {
            "_model_module": "@jupyter-widgets/controls",
            "_model_module_version": "1.5.0",
            "_model_name": "DescriptionStyleModel",
            "_view_count": null,
            "_view_module": "@jupyter-widgets/base",
            "_view_module_version": "1.2.0",
            "_view_name": "StyleView",
            "description_width": ""
          }
        },
        "8e7ecb7d13b54190ba0794fcaf22e146": {
          "model_module": "@jupyter-widgets/base",
          "model_name": "LayoutModel",
          "model_module_version": "1.2.0",
          "state": {
            "_model_module": "@jupyter-widgets/base",
            "_model_module_version": "1.2.0",
            "_model_name": "LayoutModel",
            "_view_count": null,
            "_view_module": "@jupyter-widgets/base",
            "_view_module_version": "1.2.0",
            "_view_name": "LayoutView",
            "align_content": null,
            "align_items": null,
            "align_self": null,
            "border": null,
            "bottom": null,
            "display": null,
            "flex": null,
            "flex_flow": null,
            "grid_area": null,
            "grid_auto_columns": null,
            "grid_auto_flow": null,
            "grid_auto_rows": null,
            "grid_column": null,
            "grid_gap": null,
            "grid_row": null,
            "grid_template_areas": null,
            "grid_template_columns": null,
            "grid_template_rows": null,
            "height": null,
            "justify_content": null,
            "justify_items": null,
            "left": null,
            "margin": null,
            "max_height": null,
            "max_width": null,
            "min_height": null,
            "min_width": null,
            "object_fit": null,
            "object_position": null,
            "order": null,
            "overflow": null,
            "overflow_x": null,
            "overflow_y": null,
            "padding": null,
            "right": null,
            "top": null,
            "visibility": null,
            "width": null
          }
        },
        "36fdca4e10d5497daf03e72c71e3f168": {
          "model_module": "@jupyter-widgets/controls",
          "model_name": "ProgressStyleModel",
          "model_module_version": "1.5.0",
          "state": {
            "_model_module": "@jupyter-widgets/controls",
            "_model_module_version": "1.5.0",
            "_model_name": "ProgressStyleModel",
            "_view_count": null,
            "_view_module": "@jupyter-widgets/base",
            "_view_module_version": "1.2.0",
            "_view_name": "StyleView",
            "bar_color": null,
            "description_width": ""
          }
        },
        "6bd92a4b2a2e4d3ea7012046453f383d": {
          "model_module": "@jupyter-widgets/base",
          "model_name": "LayoutModel",
          "model_module_version": "1.2.0",
          "state": {
            "_model_module": "@jupyter-widgets/base",
            "_model_module_version": "1.2.0",
            "_model_name": "LayoutModel",
            "_view_count": null,
            "_view_module": "@jupyter-widgets/base",
            "_view_module_version": "1.2.0",
            "_view_name": "LayoutView",
            "align_content": null,
            "align_items": null,
            "align_self": null,
            "border": null,
            "bottom": null,
            "display": null,
            "flex": null,
            "flex_flow": null,
            "grid_area": null,
            "grid_auto_columns": null,
            "grid_auto_flow": null,
            "grid_auto_rows": null,
            "grid_column": null,
            "grid_gap": null,
            "grid_row": null,
            "grid_template_areas": null,
            "grid_template_columns": null,
            "grid_template_rows": null,
            "height": null,
            "justify_content": null,
            "justify_items": null,
            "left": null,
            "margin": null,
            "max_height": null,
            "max_width": null,
            "min_height": null,
            "min_width": null,
            "object_fit": null,
            "object_position": null,
            "order": null,
            "overflow": null,
            "overflow_x": null,
            "overflow_y": null,
            "padding": null,
            "right": null,
            "top": null,
            "visibility": null,
            "width": null
          }
        },
        "928c73f01e754c91905616fcfcba3d7e": {
          "model_module": "@jupyter-widgets/controls",
          "model_name": "DescriptionStyleModel",
          "model_module_version": "1.5.0",
          "state": {
            "_model_module": "@jupyter-widgets/controls",
            "_model_module_version": "1.5.0",
            "_model_name": "DescriptionStyleModel",
            "_view_count": null,
            "_view_module": "@jupyter-widgets/base",
            "_view_module_version": "1.2.0",
            "_view_name": "StyleView",
            "description_width": ""
          }
        }
      }
    }
  },
  "cells": [
    {
      "cell_type": "markdown",
      "metadata": {
        "id": "view-in-github",
        "colab_type": "text"
      },
      "source": [
        "<a href=\"https://colab.research.google.com/github/haynesmatt/Carrotive/blob/main/PyTorch_Demo.ipynb\" target=\"_parent\"><img src=\"https://colab.research.google.com/assets/colab-badge.svg\" alt=\"Open In Colab\"/></a>"
      ]
    },
    {
      "cell_type": "code",
      "execution_count": 2,
      "metadata": {
        "id": "-cpMFLZgDz_-"
      },
      "outputs": [],
      "source": [
        "from __future__ import print_function\n",
        "\n",
        "import torch\n",
        "from torch import nn\n",
        "from torch.utils.data import DataLoader\n",
        "from torchvision import datasets\n",
        "from torchvision.transforms import ToTensor\n",
        "import torchvision.transforms as transforms\n",
        "\n",
        "import numpy as np\n",
        "import matplotlib.pyplot as plt\n",
        "torch.set_printoptions(linewidth = 120)\n",
        "\n",
        "import torch\n",
        "import torchvision\n",
        "import torchvision.transforms as transforms\n",
        "import torch.nn as nn\n",
        "import torch.nn.functional as F\n",
        "import torch.optim as optim\n",
        "\n",
        "\n",
        "from sklearn.metrics import confusion_matrix\n",
        "from sklearn.utils.multiclass import unique_labels\n",
        "from sklearn.metrics import accuracy_score\n",
        "from sklearn.metrics import f1_score"
      ]
    },
    {
      "cell_type": "code",
      "source": [
        "# Download training data from open datasets.\n",
        "training_data = datasets.FashionMNIST(\n",
        "    root=\"data\",\n",
        "    train=True,\n",
        "    download=True,\n",
        "    transform=transforms.Compose([transforms.ToTensor()]),\n",
        "    \n",
        ")\n",
        "\n",
        "# Download test data from open datasets.\n",
        "test_data = datasets.FashionMNIST(\n",
        "    root=\"data\",\n",
        "    train=False,\n",
        "    download=True,\n",
        "    transform=ToTensor(),\n",
        ")"
      ],
      "metadata": {
        "id": "eTNQKtHwE3qj",
        "colab": {
          "base_uri": "https://localhost:8080/",
          "height": 431,
          "referenced_widgets": [
            "f3b400ea89d9463f8bd279ba79e90aa7",
            "5256a79c8d004317a537685fd0b944b8",
            "454a8af602c74a0881bbc824ee97d0bf",
            "64e97db97fa346c6870af41192aa38b3",
            "79988de50d7b4fe8a1f413114c410db0",
            "19818098ac75462590c59107f8800b80",
            "256141b4a74a458facbc325cdec539f6",
            "0450bf2e0b794c2da0e3b830d7483b02",
            "bc089cfddc8e4222b9b6c34456dddd4c",
            "bbff2e73092541f4b0bfa82dcb8f10c0",
            "30a5935595084bf6af5aa79a551ca971",
            "d80491ae6e564e29843be4cd51176e94",
            "8d2a747b6d3645cd9e7d4d305cf1cdef",
            "d3215bb45b864e28a088145c9effea9b",
            "59e65f877abc4ca5b5928848b434b218",
            "cdfb1b35bbdf4ed8be8f460052c6b480",
            "f60e106223dd458584f0307594d77628",
            "4d35eed81f284be6a75878f5f1f8a274",
            "58dd7efe1dbc4b5e89b7285365e999cd",
            "c36d0c06eec745d5b80b0641263ebcb9",
            "df3fb4e71ab145b0a0047173341d4f4b",
            "7a6f912136b4402fa8e8c901f027e893",
            "354d7fd5f91c4fac88fefd984d8c4664",
            "819b9da445af40c88c30e358026fd64d",
            "8987939468184bbcb9805ce5254a342a",
            "3c6ce097e52e4f6498655db9c5c37f8c",
            "498d7035bf12421caeece36f7a43e121",
            "6fee38f7dfeb43329bc7208badc0b374",
            "de565c72ab374df2a5f60bc7c35f9d7d",
            "06f793462d2e4405985bd0c3cae4d360",
            "9e4d3b68989b4a42843dffbd00c02d22",
            "8b229d1f087d4bd3b95a4af3b1c924b0",
            "ad3b8e773c98400296eefef28443fc2b",
            "2970acddb7824e49b99ecdcf4e97187b",
            "b7c9b55d664c4186b7abe1acbd62d2ec",
            "80f7a9dd19374fc4906face16c7d9fff",
            "7bcef9d72db6421b8000fc12b1dd86f8",
            "b66dad04d7e44ae390cfdbb14d9b565c",
            "289ac610368b4c8fb7b05355406f7bea",
            "30ec5afc4f2c4e77aa293d7d4ed88adb",
            "8e7ecb7d13b54190ba0794fcaf22e146",
            "36fdca4e10d5497daf03e72c71e3f168",
            "6bd92a4b2a2e4d3ea7012046453f383d",
            "928c73f01e754c91905616fcfcba3d7e"
          ]
        },
        "outputId": "2d26ab60-773a-4925-cd2f-7ddfc863290f"
      },
      "execution_count": 3,
      "outputs": [
        {
          "output_type": "stream",
          "name": "stdout",
          "text": [
            "Downloading http://fashion-mnist.s3-website.eu-central-1.amazonaws.com/train-images-idx3-ubyte.gz\n",
            "Downloading http://fashion-mnist.s3-website.eu-central-1.amazonaws.com/train-images-idx3-ubyte.gz to data/FashionMNIST/raw/train-images-idx3-ubyte.gz\n"
          ]
        },
        {
          "output_type": "display_data",
          "data": {
            "text/plain": [
              "  0%|          | 0/26421880 [00:00<?, ?it/s]"
            ],
            "application/vnd.jupyter.widget-view+json": {
              "version_major": 2,
              "version_minor": 0,
              "model_id": "f3b400ea89d9463f8bd279ba79e90aa7"
            }
          },
          "metadata": {}
        },
        {
          "output_type": "stream",
          "name": "stdout",
          "text": [
            "Extracting data/FashionMNIST/raw/train-images-idx3-ubyte.gz to data/FashionMNIST/raw\n",
            "\n",
            "Downloading http://fashion-mnist.s3-website.eu-central-1.amazonaws.com/train-labels-idx1-ubyte.gz\n",
            "Downloading http://fashion-mnist.s3-website.eu-central-1.amazonaws.com/train-labels-idx1-ubyte.gz to data/FashionMNIST/raw/train-labels-idx1-ubyte.gz\n"
          ]
        },
        {
          "output_type": "display_data",
          "data": {
            "text/plain": [
              "  0%|          | 0/29515 [00:00<?, ?it/s]"
            ],
            "application/vnd.jupyter.widget-view+json": {
              "version_major": 2,
              "version_minor": 0,
              "model_id": "d80491ae6e564e29843be4cd51176e94"
            }
          },
          "metadata": {}
        },
        {
          "output_type": "stream",
          "name": "stdout",
          "text": [
            "Extracting data/FashionMNIST/raw/train-labels-idx1-ubyte.gz to data/FashionMNIST/raw\n",
            "\n",
            "Downloading http://fashion-mnist.s3-website.eu-central-1.amazonaws.com/t10k-images-idx3-ubyte.gz\n",
            "Downloading http://fashion-mnist.s3-website.eu-central-1.amazonaws.com/t10k-images-idx3-ubyte.gz to data/FashionMNIST/raw/t10k-images-idx3-ubyte.gz\n"
          ]
        },
        {
          "output_type": "display_data",
          "data": {
            "text/plain": [
              "  0%|          | 0/4422102 [00:00<?, ?it/s]"
            ],
            "application/vnd.jupyter.widget-view+json": {
              "version_major": 2,
              "version_minor": 0,
              "model_id": "354d7fd5f91c4fac88fefd984d8c4664"
            }
          },
          "metadata": {}
        },
        {
          "output_type": "stream",
          "name": "stdout",
          "text": [
            "Extracting data/FashionMNIST/raw/t10k-images-idx3-ubyte.gz to data/FashionMNIST/raw\n",
            "\n",
            "Downloading http://fashion-mnist.s3-website.eu-central-1.amazonaws.com/t10k-labels-idx1-ubyte.gz\n",
            "Downloading http://fashion-mnist.s3-website.eu-central-1.amazonaws.com/t10k-labels-idx1-ubyte.gz to data/FashionMNIST/raw/t10k-labels-idx1-ubyte.gz\n"
          ]
        },
        {
          "output_type": "display_data",
          "data": {
            "text/plain": [
              "  0%|          | 0/5148 [00:00<?, ?it/s]"
            ],
            "application/vnd.jupyter.widget-view+json": {
              "version_major": 2,
              "version_minor": 0,
              "model_id": "2970acddb7824e49b99ecdcf4e97187b"
            }
          },
          "metadata": {}
        },
        {
          "output_type": "stream",
          "name": "stdout",
          "text": [
            "Extracting data/FashionMNIST/raw/t10k-labels-idx1-ubyte.gz to data/FashionMNIST/raw\n",
            "\n"
          ]
        }
      ]
    },
    {
      "cell_type": "code",
      "source": [
        "print(len(training_data))"
      ],
      "metadata": {
        "colab": {
          "base_uri": "https://localhost:8080/"
        },
        "id": "r87u8ebTJmRX",
        "outputId": "7f5f377c-99d0-46c8-c05c-c98726540d3c"
      },
      "execution_count": 4,
      "outputs": [
        {
          "output_type": "stream",
          "name": "stdout",
          "text": [
            "60000\n"
          ]
        }
      ]
    },
    {
      "cell_type": "code",
      "source": [
        "batch_size = 64\n",
        "\n",
        "# Create data loaders.\n",
        "train_dataloader = DataLoader(training_data, batch_size=batch_size)\n",
        "test_dataloader = DataLoader(test_data, batch_size=batch_size)\n",
        "\n",
        "for X, y in test_dataloader:\n",
        "    print(f\"Shape of X [N, C, H, W]: {X.shape}\")\n",
        "    print(f\"Shape of y: {y.shape} {y.dtype}\")\n",
        "    break"
      ],
      "metadata": {
        "colab": {
          "base_uri": "https://localhost:8080/"
        },
        "id": "hmz_uz_QFFfg",
        "outputId": "d39e38c6-8c34-48dc-c4bf-1a32858e3125"
      },
      "execution_count": null,
      "outputs": [
        {
          "output_type": "stream",
          "name": "stdout",
          "text": [
            "Shape of X [N, C, H, W]: torch.Size([64, 1, 28, 28])\n",
            "Shape of y: torch.Size([64]) torch.int64\n"
          ]
        }
      ]
    },
    {
      "cell_type": "code",
      "source": [
        "\n",
        "print(training_data.targets)\n",
        "\n"
      ],
      "metadata": {
        "colab": {
          "base_uri": "https://localhost:8080/"
        },
        "id": "y6BHn6RK7-Sa",
        "outputId": "cdb188b4-d61b-4beb-9805-834fed7f8b8f"
      },
      "execution_count": null,
      "outputs": [
        {
          "output_type": "stream",
          "name": "stdout",
          "text": [
            "tensor([9, 0, 0,  ..., 3, 0, 5])\n"
          ]
        }
      ]
    },
    {
      "cell_type": "code",
      "source": [
        "sample = next(iter(training_data))\n",
        "sample_image, sample_label = sample\n",
        "# image size\n",
        "print(sample_image.shape)"
      ],
      "metadata": {
        "colab": {
          "base_uri": "https://localhost:8080/"
        },
        "id": "RUtRpXD2-lmp",
        "outputId": "91dfced6-10ea-4b61-87ff-5a1822e9477d"
      },
      "execution_count": null,
      "outputs": [
        {
          "output_type": "stream",
          "name": "stdout",
          "text": [
            "torch.Size([1, 28, 28])\n"
          ]
        }
      ]
    },
    {
      "cell_type": "code",
      "source": [
        "plt.imshow(sample_image.squeeze(), cmap='gray')\n",
        "print('label:', sample_label)"
      ],
      "metadata": {
        "colab": {
          "base_uri": "https://localhost:8080/",
          "height": 282
        },
        "id": "XPd_CN-T_0Yd",
        "outputId": "856f799a-ca01-465c-942c-f22a22983ca2"
      },
      "execution_count": null,
      "outputs": [
        {
          "output_type": "stream",
          "name": "stdout",
          "text": [
            "label: 9\n"
          ]
        },
        {
          "output_type": "display_data",
          "data": {
            "text/plain": [
              "<Figure size 432x288 with 1 Axes>"
            ],
            "image/png": "[encoded data removed]"
          },
          "metadata": {
            "needs_background": "light"
          }
        }
      ]
    },
    {
      "cell_type": "code",
      "source": [
        "from torch.utils.tensorboard import SummaryWriter\n",
        "\n",
        "writer = SummaryWriter()\n",
        "\n",
        "# Train CNN\n",
        "\n",
        "def TrainCNN(epochs, train_dataloader, test_dataloader, model, loss_fn, optimizer):\n",
        "\n",
        "\n",
        "\n",
        "  batches = 0\n",
        "  train_losses = list()\n",
        "  val_losses = list()\n",
        "  val_acces = list()\n",
        "  batch_lst = list()\n",
        "  val_loss = 0\n",
        "\n",
        "  for epoch in range(1,epochs+1):  # loop over the dataset multiple times\n",
        "\n",
        "      running_loss = 0.0\n",
        "      for i, data in enumerate(train_dataloader):\n",
        "          # get the inputs; data is a list of [inputs, labels]\n",
        "          inputs, labels = data\n",
        "\n",
        "          optimizer.zero_grad()\n",
        "\n",
        "          # forward + backward + optimize\n",
        "          outputs = model(inputs)\n",
        "          loss = loss_fn(outputs, labels)\n",
        "          loss.backward() \n",
        "          optimizer.step()\n",
        "\n",
        "          # print statistics\n",
        "          running_loss += loss.item()\n",
        "          if i % 100 == 99:    # print every 2000 mini-batches\n",
        "\n",
        "              model.eval()\n",
        "            \n",
        "              correct = 0\n",
        "\n",
        "\n",
        "              for j, val_data in enumerate(test_dataloader):\n",
        "                  val_X, val_y = val_data\n",
        "\n",
        "\n",
        "                  outputs = model(val_X)\n",
        "\n",
        "                  v_loss = loss_fn(outputs, val_y)\n",
        "                  val_loss += v_loss.item()\n",
        "\n",
        "                  preds = outputs.data.max(1, keepdim=True)[1]\n",
        "\n",
        "                  correct += preds.eq(val_y.view_as(preds)).cpu().sum().item()\n",
        "\n",
        "              log = f\"epoch: {epoch} {i+1} \" \\\n",
        "                  f\"train_loss: {running_loss / 100:.3f} \" \\\n",
        "                  f\"val_loss: {val_loss / 100:.3f} \" \\\n",
        "                  f\"Val Acc: {correct/len(test_dataloader.dataset):.3f}\"\n",
        "\n",
        "\n",
        "              train_losses.append(running_loss / 100)\n",
        "              val_losses.append(val_loss / 100)\n",
        "              val_acces.append(correct/len(test_dataloader.dataset))\n",
        "              batches += 100\n",
        "              batch_lst.append(batches)\n",
        "\n",
        "              val_loss = 0\n",
        "\n",
        "              print(log)\n",
        "\n",
        "              running_loss = 0.0\n",
        "\n",
        "              model.train()\n",
        "              writer.flush()\n",
        "\n",
        "              \n",
        "\n",
        "\n",
        "  print('Finished Training')\n",
        "  writer.close()\n",
        "\n",
        "  plt.figure(figsize=(16,6))\n",
        "  plt.plot(batch_lst, train_losses, '-o', label='Training loss')\n",
        "  plt.plot(batch_lst, val_losses, '-o', label='Testing loss')\n",
        "  plt.legend()\n",
        "  plt.title('Learning curves')\n",
        "  plt.xlabel('Batches')\n",
        "  plt.ylabel('Loss')\n",
        "  plt.xticks(batch_lst,rotation = 90)\n",
        "  plt.tight_layout()\n",
        "\n",
        "\n",
        "  plt.show()\n",
        "\n",
        "\n"
      ],
      "metadata": {
        "id": "WaUq9XqS3rIX"
      },
      "execution_count": null,
      "outputs": []
    },
    {
      "cell_type": "code",
      "source": [],
      "metadata": {
        "colab": {
          "base_uri": "https://localhost:8080/",
          "height": 133
        },
        "id": "ifieN6tZNvLD",
        "outputId": "b8f40c8c-5ba5-4e16-ce47-762d4bee21d4"
      },
      "execution_count": null,
      "outputs": [
        {
          "output_type": "error",
          "ename": "SyntaxError",
          "evalue": "ignored",
          "traceback": [
            "\u001b[0;36m  File \u001b[0;32m\"<ipython-input-26-8dfe2aebc706>\"\u001b[0;36m, line \u001b[0;32m1\u001b[0m\n\u001b[0;31m    tensorboard --logdir=runs\u001b[0m\n\u001b[0m                             ^\u001b[0m\n\u001b[0;31mSyntaxError\u001b[0m\u001b[0;31m:\u001b[0m can't assign to operator\n"
          ]
        }
      ]
    },
    {
      "cell_type": "code",
      "source": [
        "# Define model\n",
        "device = \"cuda\" if torch.cuda.is_available() else \"cpu\"\n",
        "print(f\"Using {device} device\")\n",
        "\n",
        "\n",
        "class NeuralNetwork(nn.Module):\n",
        "    def __init__(self):\n",
        "        super(NeuralNetwork, self).__init__()\n",
        "        self.flatten = nn.Flatten()\n",
        "        self.linear_relu_stack = nn.Sequential(\n",
        "            nn.Linear(28*28, 512),\n",
        "            nn.ReLU(),\n",
        "            nn.Linear(512, 512),\n",
        "            nn.ReLU(),\n",
        "            nn.Linear(512, 10)\n",
        "        )\n",
        "\n",
        "    def forward(self, x):\n",
        "        x = self.flatten(x)\n",
        "        logits = self.linear_relu_stack(x)\n",
        "        return logits\n",
        "\n",
        "model = NeuralNetwork().to(device)\n",
        "print(model)"
      ],
      "metadata": {
        "colab": {
          "base_uri": "https://localhost:8080/"
        },
        "id": "D5ze9u-o4KqO",
        "outputId": "e838653e-ea4e-433b-f271-522f16ef00ee"
      },
      "execution_count": null,
      "outputs": [
        {
          "output_type": "stream",
          "name": "stdout",
          "text": [
            "NeuralNetwork(\n",
            "  (flatten): Flatten(start_dim=1, end_dim=-1)\n",
            "  (linear_relu_stack): Sequential(\n",
            "    (0): Linear(in_features=784, out_features=512, bias=True)\n",
            "    (1): ReLU()\n",
            "    (2): Linear(in_features=512, out_features=512, bias=True)\n",
            "    (3): ReLU()\n",
            "    (4): Linear(in_features=512, out_features=10, bias=True)\n",
            "  )\n",
            ")\n"
          ]
        }
      ]
    },
    {
      "cell_type": "code",
      "source": [
        "loss_fn = nn.CrossEntropyLoss()\n",
        "optimizer = torch.optim.SGD(model.parameters(), lr=1e-3)"
      ],
      "metadata": {
        "id": "npfJLBNv4iIu"
      },
      "execution_count": null,
      "outputs": []
    },
    {
      "cell_type": "code",
      "source": [
        "loss_fn = nn.CrossEntropyLoss()\n",
        "optimizer = torch.optim.Adam(model.parameters(), lr=1e-3)\n",
        "epochs = 10\n",
        "\n",
        "TrainCNN(epochs, train_dataloader, test_dataloader, model, loss_fn, optimizer)"
      ],
      "metadata": {
        "colab": {
          "base_uri": "https://localhost:8080/"
        },
        "id": "aw39vhNZ4nKG",
        "outputId": "e587dfc6-8782-4aec-c9c4-735711d8dd0e"
      },
      "execution_count": null,
      "outputs": [
        {
          "output_type": "stream",
          "name": "stdout",
          "text": [
            "epoch: 1 100 train_loss: 0.834 val_loss: 0.929 Val Acc: 0.783\n",
            "epoch: 1 200 train_loss: 0.547 val_loss: 0.843 Val Acc: 0.809\n",
            "epoch: 1 300 train_loss: 0.501 val_loss: 0.843 Val Acc: 0.807\n",
            "epoch: 1 400 train_loss: 0.459 val_loss: 0.753 Val Acc: 0.825\n",
            "epoch: 1 500 train_loss: 0.449 val_loss: 0.769 Val Acc: 0.825\n",
            "epoch: 1 600 train_loss: 0.428 val_loss: 0.672 Val Acc: 0.848\n",
            "epoch: 1 700 train_loss: 0.403 val_loss: 0.729 Val Acc: 0.834\n",
            "epoch: 1 800 train_loss: 0.414 val_loss: 0.640 Val Acc: 0.856\n",
            "epoch: 1 900 train_loss: 0.408 val_loss: 0.670 Val Acc: 0.844\n",
            "epoch: 2 100 train_loss: 0.382 val_loss: 0.616 Val Acc: 0.859\n",
            "epoch: 2 200 train_loss: 0.368 val_loss: 0.639 Val Acc: 0.853\n",
            "epoch: 2 300 train_loss: 0.369 val_loss: 0.641 Val Acc: 0.855\n",
            "epoch: 2 400 train_loss: 0.369 val_loss: 0.620 Val Acc: 0.860\n",
            "epoch: 2 500 train_loss: 0.352 val_loss: 0.656 Val Acc: 0.853\n",
            "epoch: 2 600 train_loss: 0.351 val_loss: 0.604 Val Acc: 0.863\n",
            "epoch: 2 700 train_loss: 0.341 val_loss: 0.670 Val Acc: 0.845\n",
            "epoch: 2 800 train_loss: 0.349 val_loss: 0.605 Val Acc: 0.859\n",
            "epoch: 2 900 train_loss: 0.358 val_loss: 0.614 Val Acc: 0.855\n",
            "epoch: 3 100 train_loss: 0.328 val_loss: 0.604 Val Acc: 0.863\n",
            "epoch: 3 200 train_loss: 0.319 val_loss: 0.573 Val Acc: 0.868\n",
            "epoch: 3 300 train_loss: 0.323 val_loss: 0.594 Val Acc: 0.868\n",
            "epoch: 3 400 train_loss: 0.324 val_loss: 0.582 Val Acc: 0.870\n",
            "epoch: 3 500 train_loss: 0.307 val_loss: 0.593 Val Acc: 0.862\n",
            "epoch: 3 600 train_loss: 0.317 val_loss: 0.553 Val Acc: 0.875\n",
            "epoch: 3 700 train_loss: 0.308 val_loss: 0.597 Val Acc: 0.860\n",
            "epoch: 3 800 train_loss: 0.314 val_loss: 0.572 Val Acc: 0.867\n",
            "epoch: 3 900 train_loss: 0.327 val_loss: 0.578 Val Acc: 0.863\n",
            "epoch: 4 100 train_loss: 0.296 val_loss: 0.586 Val Acc: 0.868\n",
            "epoch: 4 200 train_loss: 0.291 val_loss: 0.563 Val Acc: 0.872\n",
            "epoch: 4 300 train_loss: 0.297 val_loss: 0.553 Val Acc: 0.875\n",
            "epoch: 4 400 train_loss: 0.296 val_loss: 0.580 Val Acc: 0.873\n",
            "epoch: 4 500 train_loss: 0.288 val_loss: 0.613 Val Acc: 0.864\n",
            "epoch: 4 600 train_loss: 0.294 val_loss: 0.539 Val Acc: 0.877\n",
            "epoch: 4 700 train_loss: 0.283 val_loss: 0.565 Val Acc: 0.872\n",
            "epoch: 4 800 train_loss: 0.285 val_loss: 0.565 Val Acc: 0.869\n",
            "epoch: 4 900 train_loss: 0.300 val_loss: 0.549 Val Acc: 0.873\n",
            "epoch: 5 100 train_loss: 0.272 val_loss: 0.569 Val Acc: 0.873\n",
            "epoch: 5 200 train_loss: 0.267 val_loss: 0.559 Val Acc: 0.875\n",
            "epoch: 5 300 train_loss: 0.273 val_loss: 0.550 Val Acc: 0.878\n",
            "epoch: 5 400 train_loss: 0.266 val_loss: 0.555 Val Acc: 0.877\n",
            "epoch: 5 500 train_loss: 0.272 val_loss: 0.579 Val Acc: 0.869\n",
            "epoch: 5 600 train_loss: 0.270 val_loss: 0.574 Val Acc: 0.878\n",
            "epoch: 5 700 train_loss: 0.265 val_loss: 0.562 Val Acc: 0.872\n",
            "epoch: 5 800 train_loss: 0.267 val_loss: 0.550 Val Acc: 0.875\n",
            "epoch: 5 900 train_loss: 0.278 val_loss: 0.553 Val Acc: 0.872\n",
            "epoch: 6 100 train_loss: 0.253 val_loss: 0.583 Val Acc: 0.874\n",
            "epoch: 6 200 train_loss: 0.254 val_loss: 0.537 Val Acc: 0.880\n",
            "epoch: 6 300 train_loss: 0.259 val_loss: 0.575 Val Acc: 0.871\n",
            "epoch: 6 400 train_loss: 0.251 val_loss: 0.556 Val Acc: 0.878\n",
            "epoch: 6 500 train_loss: 0.252 val_loss: 0.551 Val Acc: 0.877\n",
            "epoch: 6 600 train_loss: 0.251 val_loss: 0.584 Val Acc: 0.879\n",
            "epoch: 6 700 train_loss: 0.257 val_loss: 0.556 Val Acc: 0.871\n",
            "epoch: 6 800 train_loss: 0.251 val_loss: 0.561 Val Acc: 0.875\n",
            "epoch: 6 900 train_loss: 0.258 val_loss: 0.542 Val Acc: 0.873\n",
            "epoch: 7 100 train_loss: 0.239 val_loss: 0.589 Val Acc: 0.874\n",
            "epoch: 7 200 train_loss: 0.239 val_loss: 0.560 Val Acc: 0.878\n",
            "epoch: 7 300 train_loss: 0.255 val_loss: 0.569 Val Acc: 0.872\n",
            "epoch: 7 400 train_loss: 0.240 val_loss: 0.548 Val Acc: 0.881\n",
            "epoch: 7 500 train_loss: 0.237 val_loss: 0.559 Val Acc: 0.878\n",
            "epoch: 7 600 train_loss: 0.230 val_loss: 0.600 Val Acc: 0.877\n",
            "epoch: 7 700 train_loss: 0.239 val_loss: 0.556 Val Acc: 0.874\n",
            "epoch: 7 800 train_loss: 0.237 val_loss: 0.572 Val Acc: 0.874\n",
            "epoch: 7 900 train_loss: 0.242 val_loss: 0.557 Val Acc: 0.871\n",
            "epoch: 8 100 train_loss: 0.225 val_loss: 0.592 Val Acc: 0.875\n",
            "epoch: 8 200 train_loss: 0.227 val_loss: 0.563 Val Acc: 0.877\n",
            "epoch: 8 300 train_loss: 0.231 val_loss: 0.578 Val Acc: 0.877\n",
            "epoch: 8 400 train_loss: 0.226 val_loss: 0.554 Val Acc: 0.880\n",
            "epoch: 8 500 train_loss: 0.226 val_loss: 0.571 Val Acc: 0.877\n",
            "epoch: 8 600 train_loss: 0.223 val_loss: 0.597 Val Acc: 0.880\n",
            "epoch: 8 700 train_loss: 0.220 val_loss: 0.559 Val Acc: 0.874\n",
            "epoch: 8 800 train_loss: 0.227 val_loss: 0.576 Val Acc: 0.873\n",
            "epoch: 8 900 train_loss: 0.233 val_loss: 0.562 Val Acc: 0.877\n",
            "epoch: 9 100 train_loss: 0.222 val_loss: 0.587 Val Acc: 0.880\n",
            "epoch: 9 200 train_loss: 0.217 val_loss: 0.583 Val Acc: 0.877\n",
            "epoch: 9 300 train_loss: 0.219 val_loss: 0.603 Val Acc: 0.874\n",
            "epoch: 9 400 train_loss: 0.213 val_loss: 0.571 Val Acc: 0.880\n",
            "epoch: 9 500 train_loss: 0.212 val_loss: 0.580 Val Acc: 0.881\n",
            "epoch: 9 600 train_loss: 0.207 val_loss: 0.625 Val Acc: 0.878\n",
            "epoch: 9 700 train_loss: 0.212 val_loss: 0.569 Val Acc: 0.875\n",
            "epoch: 9 800 train_loss: 0.212 val_loss: 0.579 Val Acc: 0.877\n",
            "epoch: 9 900 train_loss: 0.214 val_loss: 0.586 Val Acc: 0.875\n",
            "epoch: 10 100 train_loss: 0.206 val_loss: 0.586 Val Acc: 0.881\n",
            "epoch: 10 200 train_loss: 0.201 val_loss: 0.611 Val Acc: 0.874\n",
            "epoch: 10 300 train_loss: 0.204 val_loss: 0.610 Val Acc: 0.880\n",
            "epoch: 10 400 train_loss: 0.205 val_loss: 0.610 Val Acc: 0.876\n",
            "epoch: 10 500 train_loss: 0.201 val_loss: 0.595 Val Acc: 0.883\n",
            "epoch: 10 600 train_loss: 0.193 val_loss: 0.619 Val Acc: 0.881\n",
            "epoch: 10 700 train_loss: 0.199 val_loss: 0.566 Val Acc: 0.883\n",
            "epoch: 10 800 train_loss: 0.201 val_loss: 0.601 Val Acc: 0.873\n",
            "epoch: 10 900 train_loss: 0.200 val_loss: 0.587 Val Acc: 0.875\n",
            "Finished Training\n"
          ]
        },
        {
          "output_type": "display_data",
          "data": {
            "text/plain": [
              "<Figure size 1152x432 with 1 Axes>"
            ],
            "image/png": "[encoded data removed]"
          },
          "metadata": {
            "needs_background": "light"
          }
        }
      ]
    },
    {
      "cell_type": "code",
      "source": [
        "def PredictModel(model):\n",
        "  classes = [\n",
        "      \"T-shirt/top\",\n",
        "      \"Trouser\",\n",
        "      \"Pullover\",\n",
        "      \"Dress\",\n",
        "      \"Coat\",\n",
        "      \"Sandal\",\n",
        "      \"Shirt\",\n",
        "      \"Sneaker\",\n",
        "      \"Bag\",\n",
        "      \"Ankle boot\",\n",
        "  ]\n",
        "\n",
        "  model.eval()\n",
        "  x, y = test_data[0][0], test_data[0][1]\n",
        "  with torch.no_grad():\n",
        "      pred = model(x)\n",
        "      predicted, actual = classes[pred[0].argmax(0)], classes[y]\n",
        "      print(f'Predicted: \"{predicted}\", Actual: \"{actual}\"')"
      ],
      "metadata": {
        "id": "fPtc3UiDGdcj"
      },
      "execution_count": null,
      "outputs": []
    },
    {
      "cell_type": "code",
      "source": [
        "\n",
        "# Output size formula\n",
        "# n x n input\n",
        "# f x f filter/kernel\n",
        "# p is padding\n",
        "# s is stride\n",
        "\n",
        "# then output size will be (n - f + 2p)/s + 1\n",
        "# Get cpu or gpu device for training.\n",
        "\n",
        "device = \"cuda\" if torch.cuda.is_available() else \"cpu\"\n",
        "print(f\"Using {device} device\")\n",
        "\n",
        "\n",
        "class FMNISTCNN(nn.Module):\n",
        "    def __init__(self):\n",
        "        super(FMNISTCNN, self).__init__()\n",
        "        self.conv1 = nn.Conv2d(in_channels = 1, out_channels=6, kernel_size = 5)\n",
        "        self.conv2 = nn.Conv2d(in_channels = 6, out_channels=12, kernel_size=5)\n",
        "        \n",
        "        self.fc1 = nn.Linear(in_features=12*4*4, out_features= 120)\n",
        "        self.fc2 = nn.Linear(in_features = 120, out_features = 60)\n",
        "        self.out = nn.Linear(in_features= 60, out_features = 10)\n",
        "\n",
        "\n",
        "    def forward(self, tensor):\n",
        "        \n",
        "          # hidden layer 1\n",
        "          tensor = self.conv1(tensor)\n",
        "          tensor = F.relu(tensor)\n",
        "          tensor = F.max_pool2d(tensor, kernel_size = 2, stride= 2)\n",
        "        \n",
        "          # hidden layer 2\n",
        "        \n",
        "          tensor = self.conv2(tensor)\n",
        "          tensor = F.relu(tensor)\n",
        "          tensor = F.max_pool2d(tensor, kernel_size = 2, stride = 2)\n",
        "        \n",
        "          #hidden layer 3\n",
        "        \n",
        "          tensor = tensor.reshape(-1, 12 * 4* 4)\n",
        "          tensor = self.fc1(tensor)\n",
        "          tensor = F.relu(tensor)\n",
        "        \n",
        "          #hidden layer 4\n",
        "        \n",
        "          tensor = self.fc2(tensor)\n",
        "          tensor = F.relu(tensor)\n",
        "        \n",
        "          #output layer\n",
        "        \n",
        "          tensor = self.out(tensor)\n",
        "        \n",
        "          return tensor\n",
        "    \n"
      ],
      "metadata": {
        "colab": {
          "base_uri": "https://localhost:8080/"
        },
        "id": "acQv-K40Ah5D",
        "outputId": "26c819cf-7616-4ca6-b1e4-b5eba144d907"
      },
      "execution_count": null,
      "outputs": [
        {
          "output_type": "stream",
          "name": "stdout",
          "text": [
            "Using cpu device\n"
          ]
        }
      ]
    },
    {
      "cell_type": "code",
      "source": [
        "modelCNN = FMNISTCNN().to(device)\n",
        "print(modelCNN)"
      ],
      "metadata": {
        "colab": {
          "base_uri": "https://localhost:8080/"
        },
        "id": "m4MmU6K5S4W7",
        "outputId": "0441b2c9-8771-482d-f374-44f5de9141fe"
      },
      "execution_count": null,
      "outputs": [
        {
          "output_type": "stream",
          "name": "stdout",
          "text": [
            "FMNISTCNN(\n",
            "  (conv1): Conv2d(1, 6, kernel_size=(5, 5), stride=(1, 1))\n",
            "  (conv2): Conv2d(6, 12, kernel_size=(5, 5), stride=(1, 1))\n",
            "  (fc1): Linear(in_features=192, out_features=120, bias=True)\n",
            "  (fc2): Linear(in_features=120, out_features=60, bias=True)\n",
            "  (out): Linear(in_features=60, out_features=10, bias=True)\n",
            ")\n"
          ]
        }
      ]
    },
    {
      "cell_type": "code",
      "source": [
        "loss_fn = nn.CrossEntropyLoss()\n",
        "optimizer = torch.optim.Adam(modelCNN.parameters(), lr=1e-3)\n",
        "epochs = 2\n",
        "\n",
        "TrainCNN(epochs, train_dataloader, test_dataloader, modelCNN, loss_fn, optimizer)"
      ],
      "metadata": {
        "id": "4tDpTVaz41Wt",
        "colab": {
          "base_uri": "https://localhost:8080/",
          "height": 780
        },
        "outputId": "6dbb53dd-d05c-40d0-8e40-12961798c812"
      },
      "execution_count": null,
      "outputs": [
        {
          "output_type": "stream",
          "name": "stdout",
          "text": [
            "epoch: 1 100 train_loss: 0.849 val_loss: 1.286 Val Acc: 0.681\n",
            "epoch: 1 200 train_loss: 0.763 val_loss: 1.210 Val Acc: 0.712\n",
            "epoch: 1 300 train_loss: 0.708 val_loss: 1.067 Val Acc: 0.747\n",
            "epoch: 1 400 train_loss: 0.657 val_loss: 1.047 Val Acc: 0.756\n",
            "epoch: 1 500 train_loss: 0.622 val_loss: 0.964 Val Acc: 0.768\n",
            "epoch: 1 600 train_loss: 0.593 val_loss: 0.954 Val Acc: 0.768\n",
            "epoch: 1 700 train_loss: 0.573 val_loss: 0.992 Val Acc: 0.758\n",
            "epoch: 1 800 train_loss: 0.563 val_loss: 0.886 Val Acc: 0.786\n",
            "epoch: 1 900 train_loss: 0.563 val_loss: 0.885 Val Acc: 0.788\n",
            "epoch: 2 100 train_loss: 0.517 val_loss: 0.844 Val Acc: 0.794\n",
            "epoch: 2 200 train_loss: 0.522 val_loss: 0.834 Val Acc: 0.802\n",
            "epoch: 2 300 train_loss: 0.512 val_loss: 0.824 Val Acc: 0.805\n",
            "epoch: 2 400 train_loss: 0.502 val_loss: 0.846 Val Acc: 0.802\n",
            "epoch: 2 500 train_loss: 0.491 val_loss: 0.785 Val Acc: 0.814\n",
            "epoch: 2 600 train_loss: 0.470 val_loss: 0.753 Val Acc: 0.823\n",
            "epoch: 2 700 train_loss: 0.461 val_loss: 0.841 Val Acc: 0.805\n",
            "epoch: 2 800 train_loss: 0.460 val_loss: 0.737 Val Acc: 0.828\n",
            "epoch: 2 900 train_loss: 0.467 val_loss: 0.748 Val Acc: 0.826\n",
            "Finished Training\n"
          ]
        },
        {
          "output_type": "display_data",
          "data": {
            "text/plain": [
              "<Figure size 1152x432 with 1 Axes>"
            ],
            "image/png": "[encoded data removed]"
          },
          "metadata": {
            "needs_background": "light"
          }
        }
      ]
    },
    {
      "cell_type": "code",
      "source": [
        "\n",
        "\n",
        "\n",
        "class CNNNet(nn.Module):\n",
        "    def __init__(self):\n",
        "        super(CNNNet, self).__init__()\n",
        "\n",
        "        # Input 1 channel(b/c black and white) with 32 filters each with kernel_size=3 (3*3)\n",
        "        self.conv1 = nn.Conv2d(1, 32, kernel_size=3, stride=1, padding=1)\n",
        "        self.conv2 = nn.Conv2d(32, 64, kernel_size=3, stride=1, padding=1)\n",
        "        self.conv3 = nn.Conv2d(64, 128, kernel_size=3, stride=1, padding=1)\n",
        "\n",
        "        self.batch_norm1 = nn.BatchNorm2d(32)\n",
        "        self.batch_norm2 = nn.BatchNorm2d(64)\n",
        "        self.batch_norm3 = nn.BatchNorm2d(128)\n",
        "\n",
        "        self.pool = nn.MaxPool2d(kernel_size=2, stride=2)\n",
        "\n",
        "        self.dropout25 = nn.Dropout2d(p=0.25)\n",
        "\n",
        "        # Fully connected layer\n",
        "        self.fc1 = nn.Linear(128*3*3,32)\n",
        "        self.fc2 = nn.Linear(32, 10)\n",
        "\n",
        "    def forward(self, x):\n",
        "        x = self.pool(F.relu(self.batch_norm1(self.conv1(x))))\n",
        "        x = self.dropout25(x)\n",
        "        x = self.pool(F.relu(self.batch_norm2(self.conv2(x))))\n",
        "        x = self.dropout25(x)\n",
        "        x = self.pool(F.relu(self.batch_norm3(self.conv3(x))))\n",
        "        x = self.dropout25(x)\n",
        "\n",
        "        x = x.view(x.size(0),-1)\n",
        "        x = self.fc1(x)\n",
        "        x = self.fc2(x)\n",
        "\n",
        "        return x"
      ],
      "metadata": {
        "id": "mFAB5yRFYY-z",
        "outputId": "7d803664-6c96-4e03-abca-73afa984d4d6",
        "colab": {
          "base_uri": "https://localhost:8080/",
          "height": 240
        }
      },
      "execution_count": 1,
      "outputs": [
        {
          "output_type": "error",
          "ename": "NameError",
          "evalue": "ignored",
          "traceback": [
            "\u001b[0;31m---------------------------------------------------------------------------\u001b[0m",
            "\u001b[0;31mNameError\u001b[0m                                 Traceback (most recent call last)",
            "\u001b[0;32m<ipython-input-1-f69b5f25e08c>\u001b[0m in \u001b[0;36m<module>\u001b[0;34m\u001b[0m\n\u001b[0;32m----> 1\u001b[0;31m \u001b[0;32mclass\u001b[0m \u001b[0mCNNNet\u001b[0m\u001b[0;34m(\u001b[0m\u001b[0mnn\u001b[0m\u001b[0;34m.\u001b[0m\u001b[0mModule\u001b[0m\u001b[0;34m)\u001b[0m\u001b[0;34m:\u001b[0m\u001b[0;34m\u001b[0m\u001b[0;34m\u001b[0m\u001b[0m\n\u001b[0m\u001b[1;32m      2\u001b[0m     \u001b[0;32mdef\u001b[0m \u001b[0m__init__\u001b[0m\u001b[0;34m(\u001b[0m\u001b[0mself\u001b[0m\u001b[0;34m)\u001b[0m\u001b[0;34m:\u001b[0m\u001b[0;34m\u001b[0m\u001b[0;34m\u001b[0m\u001b[0m\n\u001b[1;32m      3\u001b[0m         \u001b[0msuper\u001b[0m\u001b[0;34m(\u001b[0m\u001b[0mCNNNet\u001b[0m\u001b[0;34m,\u001b[0m \u001b[0mself\u001b[0m\u001b[0;34m)\u001b[0m\u001b[0;34m.\u001b[0m\u001b[0m__init__\u001b[0m\u001b[0;34m(\u001b[0m\u001b[0;34m)\u001b[0m\u001b[0;34m\u001b[0m\u001b[0;34m\u001b[0m\u001b[0m\n\u001b[1;32m      4\u001b[0m \u001b[0;34m\u001b[0m\u001b[0m\n\u001b[1;32m      5\u001b[0m         \u001b[0;31m# Input 1 channel(b/c black and white) with 32 filters each with kernel_size=3 (3*3)\u001b[0m\u001b[0;34m\u001b[0m\u001b[0;34m\u001b[0m\u001b[0;34m\u001b[0m\u001b[0m\n",
            "\u001b[0;31mNameError\u001b[0m: name 'nn' is not defined"
          ]
        }
      ]
    },
    {
      "cell_type": "code",
      "source": [
        "model_2_CNN = CNNNet().to(device)\n",
        "print(model_2_CNN)"
      ],
      "metadata": {
        "colab": {
          "base_uri": "https://localhost:8080/"
        },
        "id": "hCYvgM8wrlJ8",
        "outputId": "47f3a8bb-c9c9-4ebb-cbfc-1db9ab410c85"
      },
      "execution_count": null,
      "outputs": [
        {
          "output_type": "stream",
          "name": "stdout",
          "text": [
            "CNNNet(\n",
            "  (conv1): Conv2d(1, 32, kernel_size=(3, 3), stride=(1, 1), padding=(1, 1))\n",
            "  (conv2): Conv2d(32, 64, kernel_size=(3, 3), stride=(1, 1), padding=(1, 1))\n",
            "  (conv3): Conv2d(64, 128, kernel_size=(3, 3), stride=(1, 1), padding=(1, 1))\n",
            "  (batch_norm1): BatchNorm2d(32, eps=1e-05, momentum=0.1, affine=True, track_running_stats=True)\n",
            "  (batch_norm2): BatchNorm2d(64, eps=1e-05, momentum=0.1, affine=True, track_running_stats=True)\n",
            "  (batch_norm3): BatchNorm2d(128, eps=1e-05, momentum=0.1, affine=True, track_running_stats=True)\n",
            "  (pool): MaxPool2d(kernel_size=2, stride=2, padding=0, dilation=1, ceil_mode=False)\n",
            "  (dropout25): Dropout2d(p=0.25, inplace=False)\n",
            "  (fc1): Linear(in_features=1152, out_features=32, bias=True)\n",
            "  (fc2): Linear(in_features=32, out_features=10, bias=True)\n",
            ")\n"
          ]
        }
      ]
    },
    {
      "cell_type": "code",
      "source": [
        "# YOUR CODE HERE\n",
        "\n",
        "loss_fn = \n",
        "optimizer = \n",
        "epochs = \n",
        "\n",
        "TrainCNN()\n",
        "\n",
        "# YOUR CODE ENDS HERE"
      ],
      "metadata": {
        "id": "WIidHR_fwfkx",
        "colab": {
          "base_uri": "https://localhost:8080/",
          "height": 780
        },
        "outputId": "3c532f5a-d0bd-4b1f-a3ff-c6fa43ec4239"
      },
      "execution_count": null,
      "outputs": [
        {
          "output_type": "stream",
          "name": "stdout",
          "text": [
            "epoch: 1 100 train_loss: 0.537 val_loss: 0.762 Val Acc: 0.821\n",
            "epoch: 1 200 train_loss: 0.498 val_loss: 0.675 Val Acc: 0.845\n",
            "epoch: 1 300 train_loss: 0.448 val_loss: 0.633 Val Acc: 0.852\n",
            "epoch: 1 400 train_loss: 0.407 val_loss: 0.643 Val Acc: 0.855\n",
            "epoch: 1 500 train_loss: 0.407 val_loss: 0.635 Val Acc: 0.856\n",
            "epoch: 1 600 train_loss: 0.385 val_loss: 0.551 Val Acc: 0.874\n",
            "epoch: 1 700 train_loss: 0.367 val_loss: 0.555 Val Acc: 0.869\n",
            "epoch: 1 800 train_loss: 0.371 val_loss: 0.535 Val Acc: 0.874\n",
            "epoch: 1 900 train_loss: 0.365 val_loss: 0.530 Val Acc: 0.876\n",
            "epoch: 2 100 train_loss: 0.339 val_loss: 0.525 Val Acc: 0.882\n",
            "epoch: 2 200 train_loss: 0.340 val_loss: 0.521 Val Acc: 0.881\n",
            "epoch: 2 300 train_loss: 0.335 val_loss: 0.537 Val Acc: 0.876\n",
            "epoch: 2 400 train_loss: 0.319 val_loss: 0.525 Val Acc: 0.880\n",
            "epoch: 2 500 train_loss: 0.327 val_loss: 0.550 Val Acc: 0.873\n",
            "epoch: 2 600 train_loss: 0.318 val_loss: 0.477 Val Acc: 0.890\n",
            "epoch: 2 700 train_loss: 0.312 val_loss: 0.481 Val Acc: 0.889\n",
            "epoch: 2 800 train_loss: 0.313 val_loss: 0.468 Val Acc: 0.887\n",
            "epoch: 2 900 train_loss: 0.319 val_loss: 0.487 Val Acc: 0.885\n",
            "Finished Training\n"
          ]
        },
        {
          "output_type": "display_data",
          "data": {
            "text/plain": [
              "<Figure size 1152x432 with 1 Axes>"
            ],
            "image/png": "[encoded data removed]"
          },
          "metadata": {
            "needs_background": "light"
          }
        }
      ]
    }
  ]
}